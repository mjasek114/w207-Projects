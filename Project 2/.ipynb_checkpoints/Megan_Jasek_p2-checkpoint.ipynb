{
 "metadata": {
  "kernelspec": {
   "display_name": "Python 2",
   "language": "python",
   "name": "python2"
  },
  "language_info": {
   "codemirror_mode": {
    "name": "ipython",
    "version": 2
   },
   "file_extension": ".py",
   "mimetype": "text/x-python",
   "name": "python",
   "nbconvert_exporter": "python",
   "pygments_lexer": "ipython2",
   "version": "2.7.6"
  },
  "name": "",
  "signature": "sha256:6ed91a912a74b18803999bd4c80b9881702497c76779cbe89dfb722f0ae372ab"
 },
 "nbformat": 3,
 "nbformat_minor": 0,
 "worksheets": [
  {
   "cells": [
    {
     "cell_type": "heading",
     "level": 1,
     "metadata": {},
     "source": [
      "Project 2: Topic Classification"
     ]
    },
    {
     "cell_type": "markdown",
     "metadata": {},
     "source": [
      "In this project, you'll work with text data from newsgroup postings on a variety of topics. You'll train classifiers to distinguish between the topics based on the text of the posts. Whereas with digit classification, the input is relatively dense: a 28x28 matrix of pixels, many of which are non-zero, here we'll represent each document with a \"bag-of-words\" model. As you'll see, this makes the feature representation quite sparse -- only a few words of the total vocabulary are active in any given document. The bag-of-words assumption here is that the label depends only on the words; their order is not important.\n",
      "\n",
      "The SK-learn documentation on feature extraction will prove useful:\n",
      "http://scikit-learn.org/stable/modules/feature_extraction.html\n",
      "\n",
      "Each problem can be addressed succinctly with the included packages -- please don't add any more. Grading will be based on writing clean, commented code, along with a few short answers.\n",
      "\n",
      "As always, you're welcome to work on the project in groups and discuss ideas on the course wall, but please prepare your own write-up and write your own code."
     ]
    },
    {
     "cell_type": "code",
     "collapsed": false,
     "input": [
      "# This tells matplotlib not to try opening a new window for each plot.\n",
      "%matplotlib inline\n",
      "\n",
      "# General libraries.\n",
      "import re\n",
      "import numpy as np\n",
      "import matplotlib.pyplot as plt\n",
      "\n",
      "# SK-learn libraries for learning.\n",
      "from sklearn.pipeline import Pipeline\n",
      "from sklearn.neighbors import KNeighborsClassifier\n",
      "from sklearn.linear_model import LogisticRegression\n",
      "from sklearn.naive_bayes import BernoulliNB\n",
      "from sklearn.naive_bayes import MultinomialNB\n",
      "from sklearn.grid_search import GridSearchCV\n",
      "\n",
      "# SK-learn libraries for evaluation.\n",
      "from sklearn.metrics import confusion_matrix\n",
      "from sklearn import metrics\n",
      "from sklearn.metrics import classification_report\n",
      "\n",
      "# SK-learn library for importing the newsgroup data.\n",
      "from sklearn.datasets import fetch_20newsgroups\n",
      "\n",
      "# SK-learn libraries for feature extraction from text.\n",
      "from sklearn.feature_extraction.text import *"
     ],
     "language": "python",
     "metadata": {},
     "outputs": [],
     "prompt_number": 2
    },
    {
     "cell_type": "markdown",
     "metadata": {},
     "source": [
      "Load the data, stripping out metadata so that we learn classifiers that only use textual features. By default, newsgroups data is split into train and test sets. We further split the test so we have a dev set. Note that we specify 4 categories to use for this project. If you remove the categories argument from the fetch function, you'll get all 20 categories."
     ]
    },
    {
     "cell_type": "code",
     "collapsed": false,
     "input": [
      "categories = ['alt.atheism', 'talk.religion.misc', 'comp.graphics', 'sci.space']\n",
      "newsgroups_train = fetch_20newsgroups(subset='train',\n",
      "                                      remove=('headers', 'footers', 'quotes'),\n",
      "                                      categories=categories)\n",
      "newsgroups_test = fetch_20newsgroups(subset='test',\n",
      "                                     remove=('headers', 'footers', 'quotes'),\n",
      "                                     categories=categories)\n",
      "\n",
      "num_test = len(newsgroups_test.target)\n",
      "test_data, test_labels = newsgroups_test.data[num_test/2:], newsgroups_test.target[num_test/2:]\n",
      "dev_data, dev_labels = newsgroups_test.data[:num_test/2], newsgroups_test.target[:num_test/2]\n",
      "train_data, train_labels = newsgroups_train.data, newsgroups_train.target\n",
      "\n",
      "print 'training label shape:', train_labels.shape\n",
      "print 'test label shape:', test_labels.shape\n",
      "print 'dev label shape:', dev_labels.shape\n",
      "print 'labels names:', newsgroups_train.target_names"
     ],
     "language": "python",
     "metadata": {},
     "outputs": [
      {
       "output_type": "stream",
       "stream": "stdout",
       "text": [
        "training label shape: (2034L,)\n",
        "test label shape: (677L,)\n",
        "dev label shape: (676L,)\n",
        "labels names: ['alt.atheism', 'comp.graphics', 'sci.space', 'talk.religion.misc']\n"
       ]
      }
     ],
     "prompt_number": 3
    },
    {
     "cell_type": "markdown",
     "metadata": {},
     "source": [
      "(1) For each of the first 5 training examples, print the text of the message along with the label.\n",
      "\n",
      "[2 pts]"
     ]
    },
    {
     "cell_type": "code",
     "collapsed": false,
     "input": [
      "def P1(num_examples=5):\n",
      "### STUDENT START ###\n",
      "    # For each of the num_examples in the train_data, print the example number starting from 1\n",
      "    # and not 0.  Then print the label name from the data structure newsgroups_train.  Then\n",
      "    # print the text of the training data.  Then pring a new line.\n",
      "    for i in range(num_examples):\n",
      "        print 'EXAMPLE %1d: LABEL = %s' % (i+1, newsgroups_train.target_names[train_labels[i]])\n",
      "        print 'TEXT follows:'\n",
      "        print train_data[i]\n",
      "        print\n",
      "\n",
      "### STUDENT END ###\n",
      "P1()"
     ],
     "language": "python",
     "metadata": {},
     "outputs": [
      {
       "output_type": "stream",
       "stream": "stdout",
       "text": [
        "EXAMPLE 1: LABEL = comp.graphics\n",
        "TEXT follows:\n",
        "Hi,\n",
        "\n",
        "I've noticed that if you only save a model (with all your mapping planes\n",
        "positioned carefully) to a .3DS file that when you reload it after restarting\n",
        "3DS, they are given a default position and orientation.  But if you save\n",
        "to a .PRJ file their positions/orientation are preserved.  Does anyone\n",
        "know why this information is not stored in the .3DS file?  Nothing is\n",
        "explicitly said in the manual about saving texture rules in the .PRJ file. \n",
        "I'd like to be able to read the texture rule information, does anyone have \n",
        "the format for the .PRJ file?\n",
        "\n",
        "Is the .CEL file format available from somewhere?\n",
        "\n",
        "Rych\n",
        "\n",
        "EXAMPLE 2: LABEL = talk.religion.misc\n",
        "TEXT follows:\n",
        "\n",
        "\n",
        "Seems to be, barring evidence to the contrary, that Koresh was simply\n",
        "another deranged fanatic who thought it neccessary to take a whole bunch of\n",
        "folks with him, children and all, to satisfy his delusional mania. Jim\n",
        "Jones, circa 1993.\n",
        "\n",
        "\n",
        "Nope - fruitcakes like Koresh have been demonstrating such evil corruption\n",
        "for centuries.\n",
        "\n",
        "EXAMPLE 3: LABEL = sci.space\n",
        "TEXT follows:\n",
        "\n",
        " >In article <1993Apr19.020359.26996@sq.sq.com>, msb@sq.sq.com (Mark Brader) \n",
        "\n",
        "MB>                                                             So the\n",
        "MB> 1970 figure seems unlikely to actually be anything but a perijove.\n",
        "\n",
        "JG>Sorry, _perijoves_...I'm not used to talking this language.\n",
        "\n",
        "Couldn't we just say periapsis or apoapsis?\n",
        "\n",
        " \n",
        "\n",
        "EXAMPLE 4: LABEL = alt.atheism\n",
        "TEXT follows:\n",
        "I have a request for those who would like to see Charley Wingate\n",
        "respond to the \"Charley Challenges\" (and judging from my e-mail, there\n",
        "appear to be quite a few of you.)  \n",
        "\n",
        "It is clear that Mr. Wingate intends to continue to post tangential or\n",
        "unrelated articles while ingoring the Challenges themselves.  Between\n",
        "the last two re-postings of the Challenges, I noted perhaps a dozen or\n",
        "more posts by Mr. Wingate, none of which answered a single Challenge.  \n",
        "\n",
        "It seems unmistakable to me that Mr. Wingate hopes that the questions\n",
        "will just go away, and he is doing his level best to change the\n",
        "subject.  Given that this seems a rather common net.theist tactic, I\n",
        "would like to suggest that we impress upon him our desire for answers,\n",
        "in the following manner:\n",
        "\n",
        "1. Ignore any future articles by Mr. Wingate that do not address the\n",
        "Challenges, until he answers them or explictly announces that he\n",
        "refuses to do so.\n",
        "\n",
        "--or--\n",
        "\n",
        "2. If you must respond to one of his articles, include within it\n",
        "something similar to the following:\n",
        "\n",
        "    \"Please answer the questions posed to you in the Charley Challenges.\"\n",
        "\n",
        "Really, I'm not looking to humiliate anyone here, I just want some\n",
        "honest answers.  You wouldn't think that honesty would be too much to\n",
        "ask from a devout Christian, would you?  \n",
        "\n",
        "Nevermind, that was a rhetorical question.\n",
        "\n",
        "EXAMPLE 5: LABEL = sci.space\n",
        "TEXT follows:\n",
        "AW&ST  had a brief blurb on a Manned Lunar Exploration confernce\n",
        "May 7th  at Crystal City Virginia, under the auspices of AIAA.\n",
        "\n",
        "Does anyone know more about this?  How much, to attend????\n",
        "\n",
        "Anyone want to go?\n",
        "\n"
       ]
      }
     ],
     "prompt_number": 17
    },
    {
     "cell_type": "markdown",
     "metadata": {},
     "source": [
      "(2) Use CountVectorizer to turn the raw training text into feature vectors. You should use the fit_transform function, which makes 2 passes through the data: first it computes the vocabulary (\"fit\"), second it converts the raw text into feature vectors using the vocabulary (\"transform\").\n",
      "\n",
      "The vectorizer has a lot of options. To get familiar with some of them, write code to answer these questions:\n",
      "\n",
      "a. The output of the transform (also of fit_transform) is a sparse matrix: http://docs.scipy.org/doc/scipy-0.14.0/reference/generated/scipy.sparse.csr_matrix.html. What is the size of the vocabulary? What is the average number of non-zero features per example? What fraction of the entries in the matrix are non-zero? Hint: use \"nnz\" and \"shape\" attributes.\n",
      "\n",
      "b. What are the 0th and last feature strings (in alphabetical order)? Hint: use the vectorizer's get_feature_names function.\n",
      "\n",
      "c. Specify your own vocabulary with 4 words: [\"atheism\", \"graphics\", \"space\", \"religion\"]. Confirm the training vectors are appropriately shaped. Now what's the average number of non-zero features per example?\n",
      "\n",
      "d. Instead of extracting unigram word features, use \"analyzer\" and \"ngram_range\" to extract bigram and trigram character features. What size vocabulary does this yield?\n",
      "\n",
      "e. Use the \"min_df\" argument to prune words that appear in fewer than 10 documents. What size vocabulary does this yield?\n",
      "\n",
      "f. Using the standard CountVectorizer, what fraction of the words in the dev data are missing from the vocabulary? Hint: build a vocabulary for both train and dev and look at the size of the difference.\n",
      "\n",
      "[6 pts]"
     ]
    },
    {
     "cell_type": "code",
     "collapsed": false,
     "input": [
      "def P2():\n",
      "### STUDENT START ###\n",
      "    # Create a CountVectorizer object that will transform the text data into a feature vector\n",
      "    cv = CountVectorizer()\n",
      "    # Transform the train_data into a feature vector\n",
      "    feature_vector = cv.fit_transform(train_data)\n",
      "    \n",
      "    # Question 2a\n",
      "    # Store the number of non-zero entries in variable nz\n",
      "    nz = feature_vector.nnz*1.0\n",
      "    # Store the number of examples in the feature_vector in variable examples\n",
      "    examples = feature_vector.shape[0]\n",
      "    # Store the number of vocabulary words in the feature_vector in variable vocab\n",
      "    vocab = feature_vector.shape[1]\n",
      "    # Store the number of entries in the feature_vector in variable total\n",
      "    total = examples * vocab\n",
      "    # Print the supporting variables that will help answer the questions\n",
      "    print 'The number of non-zero entries (Non-Zero): %d' % (nz)\n",
      "    print 'Total number of examples in feature_vector (Examples): %d' % (examples)\n",
      "    print 'Total number of entries in feature_vector (Total): %d' % (total)\n",
      "    # Print the size of the vocabulary\n",
      "    print 'QUESTION a.i: The size of the vocabulary is: %d' % (vocab)\n",
      "    # Print the average number of non-zero features per example\n",
      "    print 'QUESTION a.ii: The average # of non-zero features per example is (Non-Zero/Examples): %f' % (nz/examples)\n",
      "    # Print the fraction of entries that are non-zero\n",
      "    print 'QUESTION a.iii: The fraction of entries that are non-zero is (Non-Zero/Total): %f \\n' % (nz/total)\n",
      "\n",
      "    #Question 2b\n",
      "    # Store the 0th and last feature strings in the variables zeroth and last\n",
      "    zeroth =  cv.get_feature_names()[0]\n",
      "    last =  cv.get_feature_names()[-1]\n",
      "    # Print the 0th and last feature strings\n",
      "    print \"QUESTION b.i: The 0th and last feature strings (in alphabetical order) are: '%s' and '%s' \\n\" % (zeroth, last)\n",
      "    \n",
      "    #Question 2c\n",
      "    # Store the 4-word vocabulary in the variable called vocabulary\n",
      "    vocabulary = [\"atheism\", \"graphics\", \"space\", \"religion\"]\n",
      "    # Create a new CountVectorizer object called cv2\n",
      "    cv2 = CountVectorizer(vocabulary=vocabulary)\n",
      "    # Transform the train_data into a feature vector\n",
      "    feature_vector2 = cv2.fit_transform(train_data)\n",
      "    # Store the number of non-zero entries in variable nz2\n",
      "    nz2 = feature_vector2.nnz*1.0\n",
      "    print 'The number of non-zero entries (Non-Zero): %d' % (nz2)\n",
      "    # Print the shape of the new feature vector\n",
      "    print 'QUESTION c.i:  The shape of the new feature vector is (%d, %d)' % feature_vector2.shape\n",
      "    # Print the average number of non-zero features per example\n",
      "    print 'QUESTION c.ii: The average # of non-zero features per example is (Non-Zero/Examples): %f \\n' % (nz2/examples)\n",
      "   \n",
      "    #Question 2d\n",
      "    # Create a CountVectorizer object that produces 2-grams and 3-grams only\n",
      "    bi_tri = CountVectorizer(ngram_range=(2,3))\n",
      "    # Transform the train_data into a feature vector\n",
      "    feature_vector3 = bi_tri.fit_transform(train_data)\n",
      "    # Store the number of vocabulary words in the feature_vector in variable vocab3\n",
      "    vocab3 = feature_vector3.shape[1]\n",
      "    # Print the size of the vocabulary\n",
      "    print 'QUESTION d.i: The size of the 2-gram, 3-gram vocabulary is: %d' % (vocab3)\n",
      "    # Store the analyzer object used by the bi_tri CountVectorizer\n",
      "    bi_tri_analyzer = bi_tri.build_analyzer()\n",
      "    print \"QUESTION d.ii Example output of the 2-gram, 3-gram analyzer for the string '207 is very cool'\"\n",
      "    for s in bi_tri_analyzer(\"207 is very cool\"):\n",
      "        print \"'\" + s + \"',\", \n",
      "    print '\\n'\n",
      "    \n",
      "    #Question 2e\n",
      "    # Create a CountVectorizer object that prunes words that appear in fewer than 10 documents\n",
      "    cv10 = CountVectorizer(min_df=10)\n",
      "    # Transform the train_data into a feature vector\n",
      "    feature_vector10 = cv10.fit_transform(train_data)\n",
      "    # Store the number of vocabulary words in the feature_vector in variable vocab10\n",
      "    vocab10 = feature_vector10.shape[1]\n",
      "    # Print the size of the vocabulary\n",
      "    print 'QUESTION e.i: The size of the min_df=10 vocabulary is: %d \\n' % (vocab10)\n",
      "    \n",
      "    #Question 2f\n",
      "    # From Todd Holloway:  this is the ratio we need to find:\n",
      "    # (words in dev vocab but not in training vocab) / (words in dev vocab)\n",
      "    # Create a CountVectorizer object that will transform the text data into a feature vector\n",
      "    cv_dev = CountVectorizer()\n",
      "    # Transform the dev_data into a feature vector\n",
      "    feature_vector_dev = cv_dev.fit_transform(dev_data)\n",
      "    # Store the number of vocabulary words in the feature_vector in variable vocab_dev\n",
      "    vocab_dev = feature_vector_dev.shape[1]\n",
      "    \n",
      "    # Convert training feature names to a set.  Using the set object saves time when doing the 'not in'\n",
      "    # query below.\n",
      "    trainf = set(cv.get_feature_names())\n",
      "    # Create a variable for the dev feature names to save typing space\n",
      "    devf = cv_dev.get_feature_names()\n",
      "    # Loop through the words in the dev features and check if each one is NOT also in the training features.\n",
      "    # store a list of everything that is in dev but not in train.  Then take the length of that list and store\n",
      "    # it in the count_dev_only variable which represents the words in dev but not in train.\n",
      "    count_dev_only = len([word for word in devf if word not in trainf])\n",
      "    # Calculate the fraction of the words found only in the dev vocab divided by the total words in the dev vocab.\n",
      "    dev_only_fract = count_dev_only/float(vocab_dev)\n",
      "    print 'Number of words ONLY in dev vocab, but not training vocab (Dev-Only): %d' % (count_dev_only)\n",
      "    print 'Total number of words in dev vocab (Dev-Total): %d' % (vocab_dev)\n",
      "    print 'QUESTION f.i:  Fraction of Dev-Only / Dev-Total: %f\\n' % (dev_only_fract)\n",
      "    \n",
      "    #print feature_vector3.shape\n",
      "    #print feature_vector.shape\n",
      "    #print cv.get_feature_names()\n",
      "    #print cv_dev.get_feature_names()\n",
      "    \n",
      "### STUDENT END ###\n",
      "P2()"
     ],
     "language": "python",
     "metadata": {},
     "outputs": [
      {
       "output_type": "stream",
       "stream": "stdout",
       "text": [
        "The number of non-zero entries (Non-Zero): 196700\n",
        "Total number of examples in feature_vector (Examples): 2034\n",
        "Total number of entries in feature_vector (Total): 54671886\n",
        "QUESTION a.i: The size of the vocabulary is: 26879\n",
        "QUESTION a.ii: The average # of non-zero features per example is (Non-Zero/Examples): 96.705998\n",
        "QUESTION a.iii: The fraction of entries that are non-zero is (Non-Zero/Total): 0.003598 \n",
        "\n",
        "QUESTION b.i: The 0th and last feature strings (in alphabetical order) are: '00' and 'zyxel' \n"
       ]
      },
      {
       "output_type": "stream",
       "stream": "stdout",
       "text": [
        "\n",
        "The number of non-zero entries (Non-Zero): 546"
       ]
      },
      {
       "output_type": "stream",
       "stream": "stdout",
       "text": [
        "\n",
        "QUESTION c.i:  The shape of the new feature vector is (2034, 4)\n",
        "QUESTION c.ii: The average # of non-zero features per example is (Non-Zero/Examples): 0.268437 \n",
        "\n",
        "QUESTION d.i: The size of the 2-gram, 3-gram vocabulary is: 510583"
       ]
      },
      {
       "output_type": "stream",
       "stream": "stdout",
       "text": [
        "\n",
        "QUESTION d.ii Example output of the 2-gram, 3-gram analyzer for the string '207 is very cool'\n",
        "'207 is', 'is very', 'very cool', '207 is very', 'is very cool', \n",
        "\n",
        "QUESTION e.i: The size of the min_df=10 vocabulary is: 3064 \n"
       ]
      },
      {
       "output_type": "stream",
       "stream": "stdout",
       "text": [
        "\n",
        "Number of words ONLY in dev vocab, but not training vocab (Dev-Only): 4027"
       ]
      },
      {
       "output_type": "stream",
       "stream": "stdout",
       "text": [
        "\n",
        "Total number of words in dev vocab (Dev-Total): 16246\n",
        "QUESTION f.i:  Fraction of Dev-Only / Dev-Total: 0.247876\n",
        "\n"
       ]
      }
     ],
     "prompt_number": 10
    },
    {
     "cell_type": "markdown",
     "metadata": {},
     "source": [
      "(3) Use the default CountVectorizer options and report the f1 score (use metrics.f1_score) for a k nearest neighbors classifier; find the optimal value for k. Also fit a Multinomial Naive Bayes model and find the optimal value for alpha. Finally, fit a logistic regression model and find the optimal value for the regularization strength C using l2 regularization. A few questions:\n",
      "\n",
      "a. Why doesn't nearest neighbors work well for this problem?\n",
      "\n",
      "b. Any ideas why logistic regression doesn't work as well as Naive Bayes?\n",
      "\n",
      "c. Logistic regression estimates a weight vector for each class, which you can access with the coef\\_ attribute. Output the sum of the squared weight values for each class for each setting of the C parameter. Briefly explain the relationship between the sum and the value of C.\n",
      "\n",
      "[4 pts]"
     ]
    },
    {
     "cell_type": "code",
     "collapsed": false,
     "input": [
      "def P3():\n",
      "### STUDENT START ###\n",
      "    cv = CountVectorizer()\n",
      "    train_fv = cv.fit_transform(train_data)\n",
      "    dev_fv = cv.transform(dev_data)\n",
      "\n",
      "    k_values = [1,2,3,4,5,6,7,8,9,10]\n",
      "    best_k = 0\n",
      "    best_score = 0 \n",
      "    for k in k_values:\n",
      "        KNN = KNeighborsClassifier(n_neighbors=k)\n",
      "        KNN.fit(train_fv, train_labels) \n",
      "        predict = KNN.predict(dev_fv)\n",
      "        f1_score =  metrics.f1_score(dev_labels, predict, average='weighted')\n",
      "        if f1_score > best_score:\n",
      "            best_score = f1_score\n",
      "            best_k = k\n",
      "        print 'F1 Score for k = %d: %f' % (k, f1_score)\n",
      "    print 'Best k-value is %d, corresponding to best f1_score of %f \\n' % (best_k, best_score)\n",
      "\n",
      "    alphas = {'alpha': [0.0001, 0.001, 0.005, 0.01, 0.05, 0.1, 0.5, 1.0, 2.0, 10.0]}\n",
      "    # Create a BernoulliNB model to pass to GridSearchCV\n",
      "    multiNB = MultinomialNB()\n",
      "    # GridSearchCV(estimator, param_grid, scoring=None, fit_params=None, n_jobs=1, iid=True,\n",
      "    # refit=True, cv=None, verbose=0, pre_dispatch='2*n_jobs', error_score='raise')\n",
      "    # Call GridSearchCV on the Bernoulli model and the param_grid of alphas\n",
      "    gs = GridSearchCV(multiNB, alphas)\n",
      "    # Fit the gridsearch with the mini_training data\n",
      "    gs.fit(train_fv, train_labels)\n",
      "    # Print the best alpha that the search found\n",
      "    print \"Best alpha value = %s\" % (str(gs.best_params_))\n",
      "\n",
      "    best_alpha = 0.005\n",
      "    multiNB2 = MultinomialNB(alpha=best_alpha)\n",
      "    multiNB2.fit(train_fv, train_labels) \n",
      "    predict = multiNB2.predict(dev_fv)\n",
      "    f1_score =  metrics.f1_score(dev_labels, predict, average='weighted')\n",
      "    print 'Multinomial Bernoulli F1 Score with alpha=%0.3f: %f \\n' % (best_alpha, f1_score)\n",
      "\n",
      "    Cs = {'C': [0.1, 0.3, 0.35, 0.375, 0.4, 0.425, 0.45, 0.5, 0.55, 0.6, 0.7, 1.0, 2.0, 3.0, 5.0, 7.0, 10.0]}\n",
      "    # Create a BernoulliNB model to pass to GridSearchCV\n",
      "    logReg = LogisticRegression()\n",
      "    # GridSearchCV(estimator, param_grid, scoring=None, fit_params=None, n_jobs=1, iid=True,\n",
      "    # refit=True, cv=None, verbose=0, pre_dispatch='2*n_jobs', error_score='raise')\n",
      "    # Call GridSearchCV on the Bernoulli model and the param_grid of alphas\n",
      "    gs = GridSearchCV(logReg, Cs)\n",
      "    # Fit the gridsearch with the mini_training data\n",
      "    gs.fit(train_fv, train_labels)\n",
      "    # Print the best alpha that the search found\n",
      "    print \"Best C value = %s\" % (str(gs.best_params_))\n",
      "    \n",
      "    best_C = 0.4\n",
      "    logReg2 = LogisticRegression(C=best_C)\n",
      "    logReg2.fit(train_fv, train_labels) \n",
      "    predict = logReg2.predict(dev_fv)\n",
      "    f1_score =  metrics.f1_score(dev_labels, predict, average='weighted')\n",
      "    print 'Logistic Regression F1 Score with C=%0.2f: %f \\n' % (best_C, f1_score)\n",
      "\n",
      "    \n",
      "### STUDENT END ###\n",
      "P3()"
     ],
     "language": "python",
     "metadata": {},
     "outputs": [
      {
       "output_type": "stream",
       "stream": "stdout",
       "text": [
        "F1 Score for k = 1: 0.380503\n",
        "F1 Score for k = 2: 0.380542"
       ]
      },
      {
       "output_type": "stream",
       "stream": "stdout",
       "text": [
        "\n",
        "F1 Score for k = 3: 0.408415"
       ]
      },
      {
       "output_type": "stream",
       "stream": "stdout",
       "text": [
        "\n",
        "F1 Score for k = 4: 0.403123"
       ]
      },
      {
       "output_type": "stream",
       "stream": "stdout",
       "text": [
        "\n",
        "F1 Score for k = 5: 0.428761"
       ]
      },
      {
       "output_type": "stream",
       "stream": "stdout",
       "text": [
        "\n",
        "F1 Score for k = 6: 0.446665"
       ]
      },
      {
       "output_type": "stream",
       "stream": "stdout",
       "text": [
        "\n",
        "F1 Score for k = 7: 0.450479"
       ]
      },
      {
       "output_type": "stream",
       "stream": "stdout",
       "text": [
        "\n",
        "F1 Score for k = 8: 0.446984"
       ]
      },
      {
       "output_type": "stream",
       "stream": "stdout",
       "text": [
        "\n",
        "F1 Score for k = 9: 0.436567"
       ]
      },
      {
       "output_type": "stream",
       "stream": "stdout",
       "text": [
        "\n",
        "F1 Score for k = 10: 0.427850"
       ]
      },
      {
       "output_type": "stream",
       "stream": "stdout",
       "text": [
        "\n",
        "Best k-value is 7, corresponding to best f1_score of 0.450479 \n",
        "\n",
        "Best alpha value = {'alpha': 0.005}"
       ]
      },
      {
       "output_type": "stream",
       "stream": "stdout",
       "text": [
        "\n",
        "Multinomial Bernoulli F1 Score with alpha=0.005: 0.772509 \n",
        "\n",
        "Best C value = {'C': 0.4}"
       ]
      },
      {
       "output_type": "stream",
       "stream": "stdout",
       "text": [
        "\n",
        "Logistic Regression F1 Score with C=0.40: 0.708282 \n"
       ]
      },
      {
       "output_type": "stream",
       "stream": "stdout",
       "text": [
        "\n"
       ]
      }
     ],
     "prompt_number": 48
    },
    {
     "cell_type": "markdown",
     "metadata": {},
     "source": [
      "ANSWER:"
     ]
    },
    {
     "cell_type": "markdown",
     "metadata": {},
     "source": [
      "(4) Train a logistic regression model. Find the 5 features with the largest weights for each label -- 20 features in total. Create a table with 20 rows and 4 columns that shows the weight for each of these features for each of the labels. Create the table again with bigram features. Any surprising features in this table?\n",
      "\n",
      "[5 pts]"
     ]
    },
    {
     "cell_type": "code",
     "collapsed": false,
     "input": [
      "#def P4():\n",
      "### STUDENT START ###\n",
      "\n",
      "\n",
      "### STUDENT END ###\n",
      "#P4()"
     ],
     "language": "python",
     "metadata": {},
     "outputs": [],
     "prompt_number": 6
    },
    {
     "cell_type": "markdown",
     "metadata": {},
     "source": [
      "ANSWER:"
     ]
    },
    {
     "cell_type": "markdown",
     "metadata": {},
     "source": [
      "(5) Try to improve the logistic regression classifier by passing a custom preprocessor to CountVectorizer. The preprocessing function runs on the raw text, before it is split into words by the tokenizer. Your preprocessor should try to normalize the input in various ways to improve generalization. For example, try lowercasing everything, replacing sequences of numbers with a single token, removing various other non-letter characters, and shortening long words. If you're not already familiar with regular expressions for manipulating strings, see https://docs.python.org/2/library/re.html, and re.sub() in particular. With your new preprocessor, how much did you reduce the size of the dictionary?\n",
      "\n",
      "For reference, I was able to improve dev F1 by 2 points.\n",
      "\n",
      "[4 pts]"
     ]
    },
    {
     "cell_type": "code",
     "collapsed": false,
     "input": [
      "def empty_preprocessor(s):\n",
      "    return s\n",
      "\n",
      "#def better_preprocessor(s):\n",
      "### STUDENT START ###\n",
      "\n",
      "### STUDENT END ###\n",
      "\n",
      "#def P5():\n",
      "### STUDENT START ###\n",
      "\n",
      "    \n",
      "### STUDENT END ###\n",
      "#P5()"
     ],
     "language": "python",
     "metadata": {},
     "outputs": [],
     "prompt_number": 7
    },
    {
     "cell_type": "markdown",
     "metadata": {},
     "source": [
      "(6) The idea of regularization is to avoid learning very large weights (which are likely to fit the training data, but not generalize well) by adding a penalty to the total size of the learned weights. That is, logistic regression seeks the set of weights that minimizes errors in the training data AND has a small size. The default regularization, L2, computes this size as the sum of the squared weights (see P3, above). L1 regularization computes this size as the sum of the absolute values of the weights. The result is that whereas L2 regularization makes all the weights relatively small, L1 regularization drives lots of the weights to 0, effectively removing unimportant features.\n",
      "\n",
      "Train a logistic regression model using a \"l1\" penalty. Output the number of learned weights that are not equal to zero. How does this compare to the number of non-zero weights you get with \"l2\"? Now, reduce the size of the vocabulary by keeping only those features that have at least one non-zero weight and retrain a model using \"l2\".\n",
      "\n",
      "Make a plot showing accuracy of the re-trained model vs. the vocabulary size you get when pruning unused features by adjusting the C parameter.\n",
      "\n",
      "Note: The gradient descent code that trains the logistic regression model sometimes has trouble converging with extreme settings of the C parameter. Relax the convergence criteria by setting tol=.01 (the default is .0001).\n",
      "\n",
      "[4 pts]"
     ]
    },
    {
     "cell_type": "code",
     "collapsed": false,
     "input": [
      "def P6():\n",
      "    # Keep this random seed here to make comparison easier.\n",
      "    np.random.seed(0)\n",
      "\n",
      "    ### STUDENT START ###\n",
      "\n",
      "    \n",
      "\n",
      "    ### STUDENT END ###\n",
      "P6()"
     ],
     "language": "python",
     "metadata": {},
     "outputs": [],
     "prompt_number": 8
    },
    {
     "cell_type": "markdown",
     "metadata": {},
     "source": [
      "(7) Use the TfidfVectorizer -- how is this different from the CountVectorizer? Train a logistic regression model with C=100.\n",
      "\n",
      "Make predictions on the dev data and show the top 3 documents where the ratio R is largest, where R is:\n",
      "\n",
      "maximum predicted probability / predicted probability of the correct label\n",
      "\n",
      "What kinds of mistakes is the model making? Suggest a way to address one particular issue that you see.\n",
      "\n",
      "[4 pts]"
     ]
    },
    {
     "cell_type": "code",
     "collapsed": false,
     "input": [
      "#def P7():\n",
      "    ### STUDENT START ###\n",
      "\n",
      "\n",
      "\n",
      "    ### STUDENT END ###\n",
      "#P7()"
     ],
     "language": "python",
     "metadata": {},
     "outputs": [],
     "prompt_number": 11
    },
    {
     "cell_type": "markdown",
     "metadata": {},
     "source": [
      "ANSWER:"
     ]
    },
    {
     "cell_type": "markdown",
     "metadata": {},
     "source": [
      "(8) EXTRA CREDIT\n",
      "\n",
      "Try implementing one of your ideas based on your error analysis. Use logistic regression as your underlying model.\n",
      "\n",
      "- [1 pt] for a reasonable attempt\n",
      "- [2 pts] for improved performance"
     ]
    }
   ],
   "metadata": {}
  }
 ]
}